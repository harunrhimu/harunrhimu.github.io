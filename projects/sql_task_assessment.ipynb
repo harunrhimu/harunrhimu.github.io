{
 "cells": [
  {
   "cell_type": "code",
   "execution_count": 1,
   "metadata": {},
   "outputs": [],
   "source": [
    "import pyodbc as odbc\n",
    "import pandas as pd\n",
    "import matplotlib.pyplot as plt"
   ]
  },
  {
   "cell_type": "code",
   "execution_count": 2,
   "metadata": {},
   "outputs": [
    {
     "ename": "InterfaceError",
     "evalue": "('IM002', '[IM002] [Microsoft][ODBC Driver Manager] Data source name not found and no default driver specified (0) (SQLDriverConnect)')",
     "output_type": "error",
     "traceback": [
      "\u001b[31m---------------------------------------------------------------------------\u001b[39m",
      "\u001b[31mInterfaceError\u001b[39m                            Traceback (most recent call last)",
      "\u001b[36mCell\u001b[39m\u001b[36m \u001b[39m\u001b[32mIn[2]\u001b[39m\u001b[32m, line 13\u001b[39m\n\u001b[32m      4\u001b[39m Database_name = \u001b[33m'\u001b[39m\u001b[33mHotelData\u001b[39m\u001b[33m'\u001b[39m\n\u001b[32m      6\u001b[39m connection = \u001b[33mf\u001b[39m\u001b[33m\"\"\"\u001b[39m\n\u001b[32m      7\u001b[39m \u001b[33m    DRIVER=\u001b[39m\u001b[38;5;130;01m{{\u001b[39;00m\u001b[38;5;132;01m{\u001b[39;00mdriver_name\u001b[38;5;132;01m}\u001b[39;00m\u001b[38;5;130;01m}}\u001b[39;00m\u001b[33m;\u001b[39m\n\u001b[32m      8\u001b[39m \u001b[33m    SERVER=\u001b[39m\u001b[38;5;132;01m{\u001b[39;00mserver_name\u001b[38;5;132;01m}\u001b[39;00m\u001b[33m;\u001b[39m\n\u001b[32m      9\u001b[39m \u001b[33m    DATABASE=\u001b[39m\u001b[38;5;132;01m{\u001b[39;00mDatabase_name\u001b[38;5;132;01m}\u001b[39;00m\u001b[33m;\u001b[39m\n\u001b[32m     10\u001b[39m \u001b[33m    Trusted_Connection=yes;\u001b[39m\n\u001b[32m     11\u001b[39m \u001b[33m\"\"\"\u001b[39m\n\u001b[32m---> \u001b[39m\u001b[32m13\u001b[39m connect_hotel = \u001b[43modbc\u001b[49m\u001b[43m.\u001b[49m\u001b[43mconnect\u001b[49m\u001b[43m(\u001b[49m\u001b[43mconnection\u001b[49m\u001b[43m)\u001b[49m\n\u001b[32m     14\u001b[39m \u001b[38;5;28mprint\u001b[39m(connect_hotel)\n",
      "\u001b[31mInterfaceError\u001b[39m: ('IM002', '[IM002] [Microsoft][ODBC Driver Manager] Data source name not found and no default driver specified (0) (SQLDriverConnect)')"
     ]
    }
   ],
   "source": [
    "driver_name = \"ODBC Driver 17 for SQL Server\"\n",
    "\n",
    "server_name = \"localhost\\\\SQLEXPRESS\"\n",
    "Database_name = 'HotelData'\n",
    "\n",
    "connection = f\"\"\"\n",
    "    DRIVER={{{driver_name}}};\n",
    "    SERVER={server_name};\n",
    "    DATABASE={Database_name};\n",
    "    Trusted_Connection=yes;\n",
    "\"\"\"\n",
    "\n",
    "connect_hotel = odbc.connect(connection)\n",
    "print(connect_hotel)"
   ]
  },
  {
   "cell_type": "code",
   "execution_count": 3,
   "metadata": {},
   "outputs": [
    {
     "name": "stdout",
     "output_type": "stream",
     "text": []
    }
   ],
   "source": [
    "# List all tables in the database to verify the existence of 'HotelRooms'\n",
    "cursor = connect_hotel.cursor()\n",
    "cursor.execute(\"SELECT TABLE_NAME FROM INFORMATION_SCHEMA.TABLES WHERE TABLE_TYPE = 'BASE TABLE'\")\n",
    "tables = cursor.fetchall()\n",
    "\n",
    "# Print the list of tables\n",
    "print(\"Tables in the database:\")\n",
    "for table in tables:\n",
    "\tprint(table[0])\n",
    "\n",
    "# Uncomment the following lines if 'HotelRooms' exists and you want to query it\n",
    "# cursor.execute(\"SELECT * FROM HotelRooms\")\n",
    "# rows = cursor.fetchall()\n",
    "# for row in rows:\n",
    "#     print(row)\n",
    "\n"
   ]
  },
  {
   "cell_type": "code",
   "execution_count": 4,
   "metadata": {},
   "outputs": [
    {
     "name": "stdout",
     "output_type": "stream",
     "text": []
    }
   ],
   "source": [
    "country_gender_count =\"\"\"\n",
    "            \n",
    "            SELECT *\n",
    "FROM dbo.TicketActivities ta\n",
    "left join dbo.Tickets t\n",
    "on t.[Ticket ID] = ta.[Ticket ID]\n",
    "left join dbo.ReservationActivities ra \n",
    "on t.[Reservation ID] = ra.[Reservation ID]\n",
    "left join dbo.Reservations r\n",
    "on r.[Reservation ID] = ra.[Reservation ID]\n",
    "left join dbo.HotelRooms hr \n",
    "on hr.[Room Number] = r.[Room Number]\n",
    "left join dbo.Customers c\n",
    "on c.[Customer Number] = r.[Customer Number]\n",
    "\n",
    "            \"\"\"\n",
    "df = pd.read_sql(country_gender_count, connect_hotel)\n",
    "# connect_hotel.close()\n",
    "\n"
   ]
  },
  {
   "cell_type": "code",
   "execution_count": 24,
   "metadata": {},
   "outputs": [
    {
     "name": "stdout",
     "output_type": "stream",
     "text": []
    }
   ],
   "source": [
    "null_rows = df[df.isnull().any(axis=1)]\n",
    "print(null_rows)"
   ]
  },
  {
   "cell_type": "code",
   "execution_count": 5,
   "metadata": {},
   "outputs": [
    {
     "name": "stdout",
     "output_type": "stream",
     "text": []
    },
    {
     "name": "stdout",
     "output_type": "stream",
     "text": []
    }
   ],
   "source": [
    "Group_query = \"\"\"\n",
    "SELECT TOP(11) c.[Country of Origin], COUNT(c.Gender) AS gender\n",
    "FROM dbo.TicketActivities ta\n",
    "LEFT JOIN dbo.Tickets t\n",
    "ON t.[Ticket ID] = ta.[Ticket ID]\n",
    "LEFT JOIN dbo.ReservationActivities ra \n",
    "ON t.[Reservation ID] = ra.[Reservation ID]\n",
    "LEFT JOIN dbo.Reservations r\n",
    "ON r.[Reservation ID] = ra.[Reservation ID]\n",
    "LEFT JOIN dbo.HotelRooms hr \n",
    "ON hr.[Room Number] = r.[Room Number]\n",
    "LEFT JOIN dbo.Customers c\n",
    "ON c.[Customer Number] = r.[Customer Number]\n",
    "GROUP BY c.[Country of Origin]\n",
    "ORDER BY gender DESC\n",
    "\"\"\"\n",
    "\n",
    "df_group = pd.read_sql(Group_query, connect_hotel)\n",
    "df_group.plot(kind='bar', x='Country of Origin')\n",
    "plt.title('Top 11 Countries by Gender Count')\n",
    "plt.xlabel('Country of Origin')\n",
    "plt.ylabel('Gender Count')\n",
    "plt.xticks(rotation=45)\n",
    "plt.tight_layout()  # Adjust layout for better readability\n",
    "plt.show()"
   ]
  },
  {
   "cell_type": "markdown",
   "metadata": {},
   "source": [
    "## All questions with codes"
   ]
  },
  {
   "cell_type": "code",
   "execution_count": null,
   "metadata": {},
   "outputs": [
    {
     "name": "stdout",
     "output_type": "stream",
     "text": []
    }
   ],
   "source": [
    "\n",
    "# --1. How can the relationships among all the tables in a dataset be identified and\n",
    "# --analyzed??\n",
    "# SELECT *\n",
    "# FROM dbo.TicketActivities ta\n",
    "# inner join dbo.Tickets t\n",
    "# on t.[Ticket ID] = ta.[Ticket ID]\n",
    "# inner join dbo.ReservationActivities ra \n",
    "# on t.[Reservation ID] = ra.[Reservation ID]\n",
    "# inner join dbo.Reservations r\n",
    "# on r.[Reservation ID] = ra.[Reservation ID]\n",
    "# inner join dbo.HotelRooms hr \n",
    "# on hr.[Room Number] = r.[Room Number]\n",
    "# inner join dbo.Customers c\n",
    "# on c.[Customer Number] = r.[Customer Number]\n",
    "# --2. How can the total number of unique customers be determined?\n",
    "# SELECT count(distinct [Customer Number]) Unique_customers\n",
    "# FROM Customers\n",
    "\n",
    "\n",
    "# --3. What steps can be taken to calculate the occupancy rate?\n",
    "\n",
    "# SELECT \n",
    "#     (SUM(r.Nights) * 100.0) / (COUNT(*) * 30) AS Occupancy_Rate\n",
    "# FROM dbo.Reservations r\n",
    "# JOIN dbo.HotelRooms hr \n",
    "# ON r.[Room Number] = hr.[Room Number];\n",
    "\n",
    "# --4. How can the distribution of customer complaints be analyzed room-wise?\n",
    "# SELECT r.[Room Number], COUNT(t.[Ticket ID]) AS Total_Complaints\n",
    "# FROM Tickets t\n",
    "# JOIN Reservations r ON t.[Reservation ID] = r.[Reservation ID]\n",
    "# GROUP BY r.[Room Number]\n",
    "# ORDER BY Total_Complaints DESC;\n",
    "\n",
    "\n",
    "\n",
    "# --5. What are the key complaints identified in customer feedback?\n",
    "# SELECT top(10) Description, COUNT(*) AS Complaint_Count\n",
    "# FROM Tickets\n",
    "# GROUP BY Description\n",
    "# ORDER BY Complaint_Count DESC;\n",
    "\n",
    "\n",
    "\n",
    "\n",
    "# --6. How can the customer retention rate be calculated?\n",
    "\n",
    "# SELECT \n",
    "#     (COUNT(DISTINCT r.[Customer Number]) * 100.0) / \n",
    "#     (SELECT COUNT(DISTINCT [Customer Number]) FROM Customers) AS Retention_Rate\n",
    "# FROM Reservations r\n",
    "# WHERE r.[Customer Number] IN (\n",
    "#     SELECT [Customer Number]\n",
    "#     FROM Reservations\n",
    "#     GROUP BY [Customer Number]\n",
    "#     HAVING COUNT([Reservation ID]) > 1\n",
    "# );\n",
    "\n",
    "# --7. How can the total number of complaints be identified for each room?\n",
    "# SELECT  r.[Room Number], COUNT(t.[Ticket ID]) AS Total_Complaints\n",
    "# FROM dbo.Tickets t\n",
    "# JOIN dbo.Reservations r ON t.[Reservation ID] = r.[Reservation ID]\n",
    "# GROUP BY r.[Room Number]\n",
    "# ORDER BY Total_Complaints DESC;\n",
    "\n",
    "# --8. What is the region-wise breakdown of offers sent and customer engagement?\n",
    "\n",
    "# SELECT Residence, COUNT([Reservation ID]) AS Total_Bookings\n",
    "# FROM Reservations r\n",
    "# JOIN Customers c ON r.[Customer Number] = c.[Customer Number]\n",
    "# GROUP BY Residence\n",
    "# ORDER BY Total_Bookings DESC;"
   ]
  },
  {
   "cell_type": "code",
   "execution_count": 8,
   "metadata": {},
   "outputs": [
    {
     "name": "stdout",
     "output_type": "stream",
     "text": []
    }
   ],
   "source": [
    "query = connect_hotel.cursor()\n",
    "query.execute(\"\"\"\n",
    "SELECT \n",
    "    (SUM(r.Nights) * 100.0) / (COUNT(*) * 30) AS Occupancy_Rate\n",
    "FROM dbo.Reservations r\n",
    "JOIN dbo.HotelRooms hr \n",
    "ON r.[Room Number] = hr.[Room Number];\n",
    "\n",
    "\n",
    "\"\"\") \n",
    "query.fetchall()"
   ]
  },
  {
   "cell_type": "code",
   "execution_count": 6,
   "metadata": {},
   "outputs": [
    {
     "name": "stdout",
     "output_type": "stream",
     "text": []
    }
   ],
   "source": [
    "query = connect_hotel.cursor()\n",
    "query.execute(\"\"\"\n",
    "\n",
    "select r.Age, r.[Room Category], c.[First Name], c.[Last Name]\n",
    "from dbo.Reservations r\n",
    "inner join dbo.Customers c\n",
    "on r.[Customer Number] = c.[Customer Number]\n",
    "-- where r.[Room Category] = 'Double Room'\n",
    "order by r.[Room Category] desc\n",
    "\n",
    "\"\"\") \n",
    "query.fetchall()"
   ]
  }
 ],
 "metadata": {
  "kernelspec": {
   "display_name": "Python 3",
   "language": "python",
   "name": "python3"
  },
  "language_info": {
   "codemirror_mode": {
    "name": "ipython",
    "version": 3
   },
   "file_extension": ".py",
   "mimetype": "text/x-python",
   "name": "python",
   "nbconvert_exporter": "python",
   "pygments_lexer": "ipython3",
   "version": "3.12.10"
  }
 },
 "nbformat": 4,
 "nbformat_minor": 2
}
